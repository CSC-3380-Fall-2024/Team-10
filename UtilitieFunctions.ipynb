{
 "cells": [
  {
   "cell_type": "code",
   "execution_count": null,
   "metadata": {},
   "outputs": [],
   "source": [
    "import random\n",
    "\n",
    "def dfs_random_path_with_range(grid, start, n, max_steps=10):\n",
    "    \"\"\"Generate a random path on the grid using DFS within a limited range.\"\"\"\n",
    "    rows, cols = len(grid), len(grid[0])\n",
    "    path = [start]  # Store the path as a list of (x, y) coordinates\n",
    "    visited = set([start])  # Keep track of visited positions\n",
    "\n",
    "    def in_range(pos):\n",
    "        \"\"\"Check if the position is within range n from the starting point.\"\"\"\n",
    "        x, y = pos\n",
    "        sx, sy = start\n",
    "        return abs(x - sx) + abs(y - sy) <= n  # Manhattan distance\n",
    "\n",
    "    def neighbors(pos):\n",
    "        \"\"\"Get all valid neighbors within the allowed range.\"\"\"\n",
    "        x, y = pos\n",
    "        moves = [(x + 1, y), (x - 1, y), (x, y + 1), (x, y - 1)]  # Down, Up, Right, Left\n",
    "        valid_moves = [\n",
    "            (nx, ny) for nx, ny in moves\n",
    "            if 0 <= nx < rows and 0 <= ny < cols and grid[nx][ny] == 0\n",
    "            and (nx, ny) not in visited and in_range((nx, ny))\n",
    "        ]\n",
    "        random.shuffle(valid_moves)  # Shuffle for randomness\n",
    "        return valid_moves\n",
    "\n",
    "    def dfs(pos, steps):\n",
    "        \"\"\"Recursive DFS to explore the grid.\"\"\"\n",
    "        if steps >= max_steps:\n",
    "            return  # Stop if the maximum number of steps is reached\n",
    "\n",
    "        for neighbor in neighbors(pos):\n",
    "            visited.add(neighbor)\n",
    "            path.append(neighbor)\n",
    "            dfs(neighbor, steps + 1)\n",
    "            break  # Stop after exploring one branch (to ensure randomness)\n",
    "\n",
    "    dfs(start, 0)\n",
    "    return path"
   ]
  }
 ],
 "metadata": {
  "kernelspec": {
   "display_name": "Python 3",
   "language": "python",
   "name": "python3"
  },
  "language_info": {
   "codemirror_mode": {
    "name": "ipython",
    "version": 3
   },
   "file_extension": ".py",
   "mimetype": "text/x-python",
   "name": "python",
   "nbconvert_exporter": "python",
   "pygments_lexer": "ipython3",
   "version": "3.11.3"
  }
 },
 "nbformat": 4,
 "nbformat_minor": 2
}
